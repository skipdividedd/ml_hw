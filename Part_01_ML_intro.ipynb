{
 "cells": [
  {
   "cell_type": "markdown",
   "metadata": {
    "id": "pN1xnoskifRp"
   },
   "source": [
    "# Введение в ML\n",
    "\n",
    "## Исходные данные\n",
    "\n",
    "Будем использовать датасет по стоимости страховых услуг - подробнее см. [соревнование на Kaggle](https://www.kaggle.com/mirichoi0218/insurance)"
   ]
  },
  {
   "cell_type": "code",
   "execution_count": 2,
   "metadata": {
    "colab": {
     "base_uri": "https://localhost:8080/"
    },
    "id": "tlYVopw2i8my",
    "outputId": "03ad0f98-6b08-408c-e413-5fcbd9906d24"
   },
   "outputs": [],
   "source": [
    "import os\n",
    "import numpy as np\n",
    "import pandas as pd \n",
    "from matplotlib import pyplot as plt\n",
    "from sklearn.preprocessing import LabelEncoder\n",
    "from sklearn.linear_model import LinearRegression\n",
    "\n",
    "RANDOM_SEED = 42\n",
    "np.random.seed(RANDOM_SEED)  # гарантируем воспроизводимость"
   ]
  },
  {
   "cell_type": "markdown",
   "metadata": {
    "id": "GRsk5ytCGxkr"
   },
   "source": [
    "`insurance.csv` - данные по стоимости страховки, на примере которых мы познакомимся с основными понятиями ML\n",
    "\n",
    "Прочитаем файл с помощью бибилиотеки pandas"
   ]
  },
  {
   "cell_type": "code",
   "execution_count": 3,
   "metadata": {
    "colab": {
     "base_uri": "https://localhost:8080/",
     "height": 206
    },
    "id": "KtlglPe-GZPy",
    "outputId": "340e5010-9e1f-43dd-a035-e31fa69adb38"
   },
   "outputs": [
    {
     "data": {
      "text/html": [
       "<div>\n",
       "<style scoped>\n",
       "    .dataframe tbody tr th:only-of-type {\n",
       "        vertical-align: middle;\n",
       "    }\n",
       "\n",
       "    .dataframe tbody tr th {\n",
       "        vertical-align: top;\n",
       "    }\n",
       "\n",
       "    .dataframe thead th {\n",
       "        text-align: right;\n",
       "    }\n",
       "</style>\n",
       "<table border=\"1\" class=\"dataframe\">\n",
       "  <thead>\n",
       "    <tr style=\"text-align: right;\">\n",
       "      <th></th>\n",
       "      <th>age</th>\n",
       "      <th>sex</th>\n",
       "      <th>bmi</th>\n",
       "      <th>children</th>\n",
       "      <th>smoker</th>\n",
       "      <th>region</th>\n",
       "      <th>charges</th>\n",
       "    </tr>\n",
       "  </thead>\n",
       "  <tbody>\n",
       "    <tr>\n",
       "      <th>0</th>\n",
       "      <td>19</td>\n",
       "      <td>female</td>\n",
       "      <td>27.900</td>\n",
       "      <td>0</td>\n",
       "      <td>yes</td>\n",
       "      <td>southwest</td>\n",
       "      <td>16884.92400</td>\n",
       "    </tr>\n",
       "    <tr>\n",
       "      <th>1</th>\n",
       "      <td>18</td>\n",
       "      <td>male</td>\n",
       "      <td>33.770</td>\n",
       "      <td>1</td>\n",
       "      <td>no</td>\n",
       "      <td>southeast</td>\n",
       "      <td>1725.55230</td>\n",
       "    </tr>\n",
       "    <tr>\n",
       "      <th>2</th>\n",
       "      <td>28</td>\n",
       "      <td>male</td>\n",
       "      <td>33.000</td>\n",
       "      <td>3</td>\n",
       "      <td>no</td>\n",
       "      <td>southeast</td>\n",
       "      <td>4449.46200</td>\n",
       "    </tr>\n",
       "    <tr>\n",
       "      <th>3</th>\n",
       "      <td>33</td>\n",
       "      <td>male</td>\n",
       "      <td>22.705</td>\n",
       "      <td>0</td>\n",
       "      <td>no</td>\n",
       "      <td>northwest</td>\n",
       "      <td>21984.47061</td>\n",
       "    </tr>\n",
       "    <tr>\n",
       "      <th>4</th>\n",
       "      <td>32</td>\n",
       "      <td>male</td>\n",
       "      <td>28.880</td>\n",
       "      <td>0</td>\n",
       "      <td>no</td>\n",
       "      <td>northwest</td>\n",
       "      <td>3866.85520</td>\n",
       "    </tr>\n",
       "  </tbody>\n",
       "</table>\n",
       "</div>"
      ],
      "text/plain": [
       "   age     sex     bmi  children smoker     region      charges\n",
       "0   19  female  27.900         0    yes  southwest  16884.92400\n",
       "1   18    male  33.770         1     no  southeast   1725.55230\n",
       "2   28    male  33.000         3     no  southeast   4449.46200\n",
       "3   33    male  22.705         0     no  northwest  21984.47061\n",
       "4   32    male  28.880         0     no  northwest   3866.85520"
      ]
     },
     "execution_count": 3,
     "metadata": {},
     "output_type": "execute_result"
    }
   ],
   "source": [
    "insurance_df = pd.read_csv('insurance.csv')\n",
    "\n",
    "insurance_df.head()"
   ]
  },
  {
   "cell_type": "markdown",
   "metadata": {
    "id": "aixnw32xIJE9"
   },
   "source": [
    "Наш таргет (целевая переменная) находится в столбце `charges`\n",
    "\n",
    "Визуализируем переменную с помощью `.scatter`"
   ]
  },
  {
   "cell_type": "code",
   "execution_count": 4,
   "metadata": {
    "colab": {
     "base_uri": "https://localhost:8080/",
     "height": 279
    },
    "id": "kpOOysKPHhsr",
    "outputId": "8507d486-9794-4727-e402-61241f81a1e8"
   },
   "outputs": [
    {
     "data": {
      "text/plain": [
       "Text(0, 0.5, 'Цена')"
      ]
     },
     "execution_count": 4,
     "metadata": {},
     "output_type": "execute_result"
    },
    {
     "data": {
      "image/png": "[encoded data removed]",
      "text/plain": [
       "<Figure size 640x480 with 1 Axes>"
      ]
     },
     "metadata": {},
     "output_type": "display_data"
    }
   ],
   "source": [
    "y = insurance_df['charges']\n",
    "\n",
    "fig, subplot = plt.subplots()\n",
    "plt.scatter(\n",
    "    np.arange(len(y)),\n",
    "    y\n",
    ")\n",
    "subplot.set_xlabel('Индекс клиента')\n",
    "subplot.set_ylabel('Цена')"
   ]
  },
  {
   "cell_type": "markdown",
   "metadata": {
    "id": "5SBRKe988LUP"
   },
   "source": [
    "Получается не очень наглядно - попробуем визуализировать с помощью метода `.hist()` который реализован в pandas"
   ]
  },
  {
   "cell_type": "code",
   "execution_count": 5,
   "metadata": {
    "colab": {
     "base_uri": "https://localhost:8080/",
     "height": 283
    },
    "id": "rbkeze8070UW",
    "outputId": "0c05cd4a-7b47-4ea2-ae7e-7d61fb3cbf41"
   },
   "outputs": [
    {
     "data": {
      "text/plain": [
       "<AxesSubplot: >"
      ]
     },
     "execution_count": 5,
     "metadata": {},
     "output_type": "execute_result"
    },
    {
     "data": {
      "image/png": "[encoded data removed]",
      "text/plain": [
       "<Figure size 640x480 with 1 Axes>"
      ]
     },
     "metadata": {},
     "output_type": "display_data"
    }
   ],
   "source": [
    "y.hist()"
   ]
  },
  {
   "cell_type": "markdown",
   "metadata": {
    "id": "_g9-GkRK4bg2"
   },
   "source": [
    "Для каждого объекта построим предсказания с помощью модели линейной регрессии. Воспользуемся как чёрным ящиком питоновским объектом из бибилиотеки [sklearn](https://scikit-learn.org/stable/)\n",
    "\n",
    "Модели машинного обучения не могут работать с текстом напрямую (вспоминаем лекцию) - а у нас много текстовых полей, их нужно трансформировать в числа - воспользуемся классом `sklearn.preprocessing.LabelEncoder` из библиотеки sklearn\n",
    "\n",
    "Чтобы преобразовать колонку в текст нужно воспользоватьеся методом [.fit_transform()](https://scikit-learn.org/stable/modules/generated/sklearn.preprocessing.LabelEncoder.html#sklearn.preprocessing.LabelEncoder.fit_transform)"
   ]
  },
  {
   "cell_type": "code",
   "execution_count": 6,
   "metadata": {
    "colab": {
     "base_uri": "https://localhost:8080/",
     "height": 206
    },
    "id": "mNIT-eq85jfo",
    "outputId": "b2a4a21d-1d16-41e8-db35-4308b114d57c"
   },
   "outputs": [
    {
     "data": {
      "text/html": [
       "<div>\n",
       "<style scoped>\n",
       "    .dataframe tbody tr th:only-of-type {\n",
       "        vertical-align: middle;\n",
       "    }\n",
       "\n",
       "    .dataframe tbody tr th {\n",
       "        vertical-align: top;\n",
       "    }\n",
       "\n",
       "    .dataframe thead th {\n",
       "        text-align: right;\n",
       "    }\n",
       "</style>\n",
       "<table border=\"1\" class=\"dataframe\">\n",
       "  <thead>\n",
       "    <tr style=\"text-align: right;\">\n",
       "      <th></th>\n",
       "      <th>age</th>\n",
       "      <th>sex</th>\n",
       "      <th>bmi</th>\n",
       "      <th>children</th>\n",
       "      <th>smoker</th>\n",
       "      <th>region</th>\n",
       "      <th>charges</th>\n",
       "    </tr>\n",
       "  </thead>\n",
       "  <tbody>\n",
       "    <tr>\n",
       "      <th>0</th>\n",
       "      <td>19</td>\n",
       "      <td>0</td>\n",
       "      <td>27.900</td>\n",
       "      <td>0</td>\n",
       "      <td>1</td>\n",
       "      <td>3</td>\n",
       "      <td>16884.92400</td>\n",
       "    </tr>\n",
       "    <tr>\n",
       "      <th>1</th>\n",
       "      <td>18</td>\n",
       "      <td>1</td>\n",
       "      <td>33.770</td>\n",
       "      <td>1</td>\n",
       "      <td>0</td>\n",
       "      <td>2</td>\n",
       "      <td>1725.55230</td>\n",
       "    </tr>\n",
       "    <tr>\n",
       "      <th>2</th>\n",
       "      <td>28</td>\n",
       "      <td>1</td>\n",
       "      <td>33.000</td>\n",
       "      <td>3</td>\n",
       "      <td>0</td>\n",
       "      <td>2</td>\n",
       "      <td>4449.46200</td>\n",
       "    </tr>\n",
       "    <tr>\n",
       "      <th>3</th>\n",
       "      <td>33</td>\n",
       "      <td>1</td>\n",
       "      <td>22.705</td>\n",
       "      <td>0</td>\n",
       "      <td>0</td>\n",
       "      <td>1</td>\n",
       "      <td>21984.47061</td>\n",
       "    </tr>\n",
       "    <tr>\n",
       "      <th>4</th>\n",
       "      <td>32</td>\n",
       "      <td>1</td>\n",
       "      <td>28.880</td>\n",
       "      <td>0</td>\n",
       "      <td>0</td>\n",
       "      <td>1</td>\n",
       "      <td>3866.85520</td>\n",
       "    </tr>\n",
       "  </tbody>\n",
       "</table>\n",
       "</div>"
      ],
      "text/plain": [
       "   age  sex     bmi  children  smoker  region      charges\n",
       "0   19    0  27.900         0       1       3  16884.92400\n",
       "1   18    1  33.770         1       0       2   1725.55230\n",
       "2   28    1  33.000         3       0       2   4449.46200\n",
       "3   33    1  22.705         0       0       1  21984.47061\n",
       "4   32    1  28.880         0       0       1   3866.85520"
      ]
     },
     "execution_count": 6,
     "metadata": {},
     "output_type": "execute_result"
    }
   ],
   "source": [
    "for label in ['sex', 'smoker', 'region']:\n",
    "    insurance_df[label] = LabelEncoder().fit_transform(insurance_df[label])\n",
    "\n",
    "insurance_df.head()"
   ]
  },
  {
   "cell_type": "markdown",
   "metadata": {
    "id": "v5WZI0Em6kKu"
   },
   "source": [
    "Обучим линейную регрессию - это класс [sklearn.linear_model.LinearRegression](https://scikit-learn.org/stable/modules/generated/sklearn.linear_model.LinearRegression.html)\n",
    "\n",
    "Что нужно для счастья\n",
    "* создать объект\n",
    "* вызвать метод *.fit()*\n",
    "\n",
    "Загляните в документацию метода [.fit()](https://scikit-learn.org/stable/modules/generated/sklearn.linear_model.LinearRegression.html#sklearn.linear_model.LinearRegression.fit) который принимает на вход два аргумента\n",
    "\n",
    "* $X$ - матрица объекты - признаки. Удалите из датафрейма `insurance_df` столбец `charges` и сохраните результат в переменную $X$\n",
    "* `y` - значение целевой переменной"
   ]
  },
  {
   "cell_type": "code",
   "execution_count": 7,
   "metadata": {
    "id": "kt_PcZMQ9I02"
   },
   "outputs": [],
   "source": [
    "X = insurance_df.drop('charges', axis=1)\n",
    "reg = LinearRegression().fit(X, y)"
   ]
  },
  {
   "cell_type": "markdown",
   "metadata": {
    "id": "jgQIaIwY1d_D"
   },
   "source": [
    "Добавим к датафрейму столбец `prediction`"
   ]
  },
  {
   "cell_type": "code",
   "execution_count": 8,
   "metadata": {
    "id": "nZ5L1ZaC1TWh"
   },
   "outputs": [],
   "source": [
    "insurance_df['prediction'] = reg.predict(X)"
   ]
  },
  {
   "cell_type": "markdown",
   "metadata": {
    "id": "o2Wva4E1818Y"
   },
   "source": [
    "Задача - посчитайте эмпирический риск по формуле \n",
    "\n",
    "$$\n",
    "Q_{\\text{emp}}(h) = \\frac{1}{N}\\sum_{i=1}^{N}L(h(x_i, \\theta), y_i)\n",
    "$$\n",
    "\n",
    "где $h(\\cdot)$ - значение столбца prediction\n",
    "\n",
    "Для удобства создайте столбец `squared_loss` - там должно храниться значение $L(y,\\hat{y})$:\n",
    "\n",
    "$L(y,\\hat{y}) = (y - \\hat{y})^2$\n",
    "\n",
    "Пользоваться можно только функциями pandas\n",
    "\n",
    "Полученное значение $Q$ округлите с помощью `np.round(Q, decimals=1)`"
   ]
  },
  {
   "cell_type": "code",
   "execution_count": 9,
   "metadata": {},
   "outputs": [],
   "source": [
    "def squared_loss(y_true, y_pred):\n",
    "    return (y_true - y_pred)**2"
   ]
  },
  {
   "cell_type": "code",
   "execution_count": 10,
   "metadata": {
    "id": "7Jjl8Bef80WL"
   },
   "outputs": [
    {
     "data": {
      "text/plain": [
       "36527659.9"
      ]
     },
     "execution_count": 10,
     "metadata": {},
     "output_type": "execute_result"
    }
   ],
   "source": [
    "num_rows = insurance_df.shape[0]\n",
    "insurance_df['squared_loss'] = np.zeros(num_rows)\n",
    "insurance_df['squared_loss'] = insurance_df.apply(lambda x: squared_loss(x.charges, x.prediction), axis=1)\n",
    "Q = np.round(insurance_df['squared_loss'].sum() / num_rows, decimals=1)\n",
    "Q"
   ]
  },
  {
   "cell_type": "code",
   "execution_count": 11,
   "metadata": {},
   "outputs": [
    {
     "data": {
      "text/html": [
       "<div>\n",
       "<style scoped>\n",
       "    .dataframe tbody tr th:only-of-type {\n",
       "        vertical-align: middle;\n",
       "    }\n",
       "\n",
       "    .dataframe tbody tr th {\n",
       "        vertical-align: top;\n",
       "    }\n",
       "\n",
       "    .dataframe thead th {\n",
       "        text-align: right;\n",
       "    }\n",
       "</style>\n",
       "<table border=\"1\" class=\"dataframe\">\n",
       "  <thead>\n",
       "    <tr style=\"text-align: right;\">\n",
       "      <th></th>\n",
       "      <th>age</th>\n",
       "      <th>sex</th>\n",
       "      <th>bmi</th>\n",
       "      <th>children</th>\n",
       "      <th>smoker</th>\n",
       "      <th>region</th>\n",
       "      <th>charges</th>\n",
       "      <th>prediction</th>\n",
       "      <th>squared_loss</th>\n",
       "    </tr>\n",
       "  </thead>\n",
       "  <tbody>\n",
       "    <tr>\n",
       "      <th>0</th>\n",
       "      <td>19</td>\n",
       "      <td>0</td>\n",
       "      <td>27.900</td>\n",
       "      <td>0</td>\n",
       "      <td>1</td>\n",
       "      <td>3</td>\n",
       "      <td>16884.92400</td>\n",
       "      <td>25111.241864</td>\n",
       "      <td>6.767231e+07</td>\n",
       "    </tr>\n",
       "    <tr>\n",
       "      <th>1</th>\n",
       "      <td>18</td>\n",
       "      <td>1</td>\n",
       "      <td>33.770</td>\n",
       "      <td>1</td>\n",
       "      <td>0</td>\n",
       "      <td>2</td>\n",
       "      <td>1725.55230</td>\n",
       "      <td>3687.605173</td>\n",
       "      <td>3.849651e+06</td>\n",
       "    </tr>\n",
       "    <tr>\n",
       "      <th>2</th>\n",
       "      <td>28</td>\n",
       "      <td>1</td>\n",
       "      <td>33.000</td>\n",
       "      <td>3</td>\n",
       "      <td>0</td>\n",
       "      <td>2</td>\n",
       "      <td>4449.46200</td>\n",
       "      <td>6963.145707</td>\n",
       "      <td>6.318606e+06</td>\n",
       "    </tr>\n",
       "    <tr>\n",
       "      <th>3</th>\n",
       "      <td>33</td>\n",
       "      <td>1</td>\n",
       "      <td>22.705</td>\n",
       "      <td>0</td>\n",
       "      <td>0</td>\n",
       "      <td>1</td>\n",
       "      <td>21984.47061</td>\n",
       "      <td>3741.308405</td>\n",
       "      <td>3.328130e+08</td>\n",
       "    </tr>\n",
       "    <tr>\n",
       "      <th>4</th>\n",
       "      <td>32</td>\n",
       "      <td>1</td>\n",
       "      <td>28.880</td>\n",
       "      <td>0</td>\n",
       "      <td>0</td>\n",
       "      <td>1</td>\n",
       "      <td>3866.85520</td>\n",
       "      <td>5537.640897</td>\n",
       "      <td>2.791525e+06</td>\n",
       "    </tr>\n",
       "  </tbody>\n",
       "</table>\n",
       "</div>"
      ],
      "text/plain": [
       "   age  sex     bmi  children  smoker  region      charges    prediction  \\\n",
       "0   19    0  27.900         0       1       3  16884.92400  25111.241864   \n",
       "1   18    1  33.770         1       0       2   1725.55230   3687.605173   \n",
       "2   28    1  33.000         3       0       2   4449.46200   6963.145707   \n",
       "3   33    1  22.705         0       0       1  21984.47061   3741.308405   \n",
       "4   32    1  28.880         0       0       1   3866.85520   5537.640897   \n",
       "\n",
       "   squared_loss  \n",
       "0  6.767231e+07  \n",
       "1  3.849651e+06  \n",
       "2  6.318606e+06  \n",
       "3  3.328130e+08  \n",
       "4  2.791525e+06  "
      ]
     },
     "execution_count": 11,
     "metadata": {},
     "output_type": "execute_result"
    }
   ],
   "source": [
    "insurance_df.head()"
   ]
  },
  {
   "cell_type": "markdown",
   "metadata": {
    "id": "FDmtrL_89e_h"
   },
   "source": [
    "Визуализируем гистограмму остатков линейной регрессии - это разница между истинным и предсказанным значением."
   ]
  },
  {
   "cell_type": "code",
   "execution_count": 12,
   "metadata": {
    "id": "8y7naliN8ASa"
   },
   "outputs": [
    {
     "data": {
      "text/plain": [
       "<AxesSubplot: >"
      ]
     },
     "execution_count": 12,
     "metadata": {},
     "output_type": "execute_result"
    },
    {
     "data": {
      "image/png": "[encoded data removed]",
      "text/plain": [
       "<Figure size 640x480 with 1 Axes>"
      ]
     },
     "metadata": {},
     "output_type": "display_data"
    }
   ],
   "source": [
    "(insurance_df['prediction'] - y).hist()"
   ]
  },
  {
   "cell_type": "markdown",
   "metadata": {
    "id": "6F0PVyvmAsji"
   },
   "source": [
    "Кстати, метрику качества необязательно считать вручную - в sklearn реализовано [огромное количество метрик](https://scikit-learn.org/stable/modules/classes.html#regression-metrics) для регрессии (и других задач тоже)\n",
    "\n",
    "Подробнее о метриках регрессии мы поговорим в дальнейших занятиях\n",
    "\n",
    "В качестве упражнения посчитайте какую-нибудь метрику - например, MAE - [sklearn.metrics.mean_absolute_error](https://scikit-learn.org/stable/modules/generated/sklearn.metrics.mean_absolute_error.html)"
   ]
  },
  {
   "cell_type": "code",
   "execution_count": 13,
   "metadata": {
    "id": "Dd_kC2omAo96"
   },
   "outputs": [
    {
     "data": {
      "text/plain": [
       "4172.487114944051"
      ]
     },
     "execution_count": 13,
     "metadata": {},
     "output_type": "execute_result"
    }
   ],
   "source": [
    "from sklearn.metrics import mean_absolute_error\n",
    "mean_absolute_error(insurance_df['charges'], insurance_df['prediction'])"
   ]
  },
  {
   "cell_type": "markdown",
   "metadata": {
    "id": "Ngj-bWgnByoe"
   },
   "source": [
    "Мы поговорили про фичи, про метрики - можно немного углубиться в модель, что представляет собой линейная регрессия?\n",
    "\n",
    "Задача *линейной* регресии: восстановить на функцию $h(x_i)$ в виде *линейной комбинации* (т.е. суммы с некоторыми весами *важности*) признаков объекта. Сами признаки называются *предикторами*:,\n",
    "$$\n",
    "\\forall x_i: h(x) = w_0 + w_1x_i^1 + \\ldots + w_nx_i^n = \\sum_{j=1}^{n}w_jx_i^j = \\overline{x}_i^T\\overline{w}\n",
    "$$\n",
    "\n",
    "К признаковому пространству добавляется \"фиктивный\" признак $x_0=1$, \"важность\" которого сохраняется в коэффициент $w_0$.\n",
    "\n",
    "То есть \"семейство функций\" представляет собой всевозможные комбинации $[w_0, w_1 , w_2 , w_3 , w_4 , w_5 , w_6]$ а метод *.fit()* волшебным образом подбирает их так, чтобы получить максимальное качество.\n",
    "\n",
    "Мера качества $L$ для задачи регрессии - квадрат разности между фактическим значением и прогнозом. ,\n",
    "$$\n",
    "L(h(x_i, \\theta), y_i) = \\left(y_i - h(x_i, \\theta)\\right)^2 = \\left(y_i -  \\sum_{j=1}^{n}w_jx_i^j\\right)^2\n",
    "$$"
   ]
  },
  {
   "cell_type": "code",
   "execution_count": 14,
   "metadata": {
    "id": "Q42P1zfr9QHl"
   },
   "outputs": [
    {
     "data": {
      "text/plain": [
       "Text(0, 0.5, 'w')"
      ]
     },
     "execution_count": 14,
     "metadata": {},
     "output_type": "execute_result"
    },
    {
     "data": {
      "image/png": "[encoded data removed]",
      "text/plain": [
       "<Figure size 640x480 with 1 Axes>"
      ]
     },
     "metadata": {},
     "output_type": "display_data"
    }
   ],
   "source": [
    "fig, subplot = plt.subplots()\n",
    "plt.bar(np.arange(len(reg.coef_)), reg.coef_)\n",
    "subplot.set_xticks(np.arange(len(reg.coef_)))\n",
    "subplot.set_xticklabels(X.columns.tolist(), rotation=65)\n",
    "subplot.set_ylabel('w')"
   ]
  },
  {
   "cell_type": "markdown",
   "metadata": {
    "id": "4sg70eSwW_uq"
   },
   "source": [
    "В качестве финального задания разберёмся как делать валидацию\n",
    "\n",
    "Нам понадобится функция [sklearn.model_selection.train_test_split](https://scikit-learn.org/stable/modules/generated/sklearn.model_selection.train_test_split.html)\n",
    "\n",
    "Функция принимает несколько аргументов\n",
    "\n",
    "* `X, y` - первые два аргумента, которые нужно засплиттить\n",
    "* `test_size=0.33` - доля датасета, которая уйдет в тест\n",
    "* `random_state=RANDOM_SEED`"
   ]
  },
  {
   "cell_type": "code",
   "execution_count": 15,
   "metadata": {
    "id": "-54hysk__wh8"
   },
   "outputs": [],
   "source": [
    "from sklearn.model_selection import train_test_split\n",
    "X_train, X_test, y_train, y_test = train_test_split(X, y, test_size=0.33, random_state=RANDOM_SEED)"
   ]
  },
  {
   "cell_type": "markdown",
   "metadata": {
    "id": "So75Zvxyhh9g"
   },
   "source": [
    "Обучите модель на X_train, y_train вызвав метод fit"
   ]
  },
  {
   "cell_type": "code",
   "execution_count": 16,
   "metadata": {
    "id": "bcRbDzkLL2Xx"
   },
   "outputs": [],
   "source": [
    "validated_reg = LinearRegression().fit(X_train, y_train)"
   ]
  },
  {
   "cell_type": "markdown",
   "metadata": {
    "id": "LtPbUxaojNOL"
   },
   "source": [
    "Сделайте предикт на `X_test`, `y_test` - сохраните его в переменную `y_test_predicted`"
   ]
  },
  {
   "cell_type": "code",
   "execution_count": 17,
   "metadata": {
    "id": "wskjMV4sMek7"
   },
   "outputs": [],
   "source": [
    "y_test_predicted = np.zeros_like(y_test) # ???????\n",
    "y_test_predicted = validated_reg.predict(X_test)"
   ]
  },
  {
   "cell_type": "markdown",
   "metadata": {
    "id": "NcV0Wx-hke92"
   },
   "source": [
    "Посчитайте [sklearn.metrics.mean_squared_error](https://scikit-learn.org/stable/modules/generated/sklearn.metrics.mean_squared_error.html#sklearn.metrics.mean_squared_error)\n",
    "\n",
    "* `y_true`\n",
    "* `y_pred`\n",
    "\n",
    "Ответ округлите `np.round(mse, decimals=1)`"
   ]
  },
  {
   "cell_type": "code",
   "execution_count": 18,
   "metadata": {
    "id": "murjdvc8MvKi"
   },
   "outputs": [],
   "source": [
    "from sklearn.metrics import mean_squared_error\n",
    "mse = mean_squared_error(y_test, y_test_predicted)"
   ]
  },
  {
   "cell_type": "code",
   "execution_count": 19,
   "metadata": {
    "id": "HTwR-7NwmFKZ"
   },
   "outputs": [
    {
     "data": {
      "text/plain": [
       "35132017.9"
      ]
     },
     "execution_count": 19,
     "metadata": {},
     "output_type": "execute_result"
    }
   ],
   "source": [
    "np.round(mse, decimals=1)"
   ]
  }
 ],
 "metadata": {
  "colab": {
   "provenance": []
  },
  "kernelspec": {
   "display_name": "Python 3 (ipykernel)",
   "language": "python",
   "name": "python3"
  },
  "language_info": {
   "codemirror_mode": {
    "name": "ipython",
    "version": 3
   },
   "file_extension": ".py",
   "mimetype": "text/x-python",
   "name": "python",
   "nbconvert_exporter": "python",
   "pygments_lexer": "ipython3",
   "version": "3.9.16"
  }
 },
 "nbformat": 4,
 "nbformat_minor": 1
}
