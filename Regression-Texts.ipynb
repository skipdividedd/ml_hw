{
 "cells": [
  {
   "cell_type": "markdown",
   "metadata": {},
   "source": [
    "На этом занятии мы попробуем задачу регрессии. Данные в этой же папке, будем тренироваться на датасете фильмов с IMDB"
   ]
  },
  {
   "cell_type": "markdown",
   "metadata": {},
   "source": [
    "Перед обучением обучением модели, нужно подготовить данные:\n",
    "\n",
    "- найти\\собрать данные\n",
    "- почистить и предобработать\n",
    "- преобразовать в матрицы \n"
   ]
  },
  {
   "cell_type": "code",
   "execution_count": 1,
   "metadata": {
    "tags": []
   },
   "outputs": [
    {
     "name": "stderr",
     "output_type": "stream",
     "text": [
      "<frozen importlib._bootstrap>:228: RuntimeWarning: scipy._lib.messagestream.MessageStream size changed, may indicate binary incompatibility. Expected 56 from C header, got 64 from PyObject\n"
     ]
    }
   ],
   "source": [
    "# импорты необходимых библиотек\n",
    "import pandas as pd\n",
    "\n",
    "import seaborn as sns\n",
    "import matplotlib.pyplot as plt\n",
    "# %matplotlib inline\n",
    "\n",
    "# import gensim\n",
    "from gensim.models.doc2vec import Doc2Vec, TaggedDocument\n",
    "from sklearn.linear_model import LinearRegression, Ridge, Lasso\n",
    "from sklearn.preprocessing import StandardScaler\n",
    "from sklearn.model_selection import train_test_split\n",
    "from sklearn.metrics import mean_absolute_error, mean_squared_error\n"
   ]
  },
  {
   "cell_type": "code",
   "execution_count": 2,
   "metadata": {
    "tags": []
   },
   "outputs": [
    {
     "name": "stdout",
     "output_type": "stream",
     "text": [
      "(1000, 12)\n"
     ]
    },
    {
     "data": {
      "text/html": [
       "<div>\n",
       "<style scoped>\n",
       "    .dataframe tbody tr th:only-of-type {\n",
       "        vertical-align: middle;\n",
       "    }\n",
       "\n",
       "    .dataframe tbody tr th {\n",
       "        vertical-align: top;\n",
       "    }\n",
       "\n",
       "    .dataframe thead th {\n",
       "        text-align: right;\n",
       "    }\n",
       "</style>\n",
       "<table border=\"1\" class=\"dataframe\">\n",
       "  <thead>\n",
       "    <tr style=\"text-align: right;\">\n",
       "      <th></th>\n",
       "      <th>Rank</th>\n",
       "      <th>Title</th>\n",
       "      <th>Genre</th>\n",
       "      <th>Description</th>\n",
       "      <th>Director</th>\n",
       "      <th>Actors</th>\n",
       "      <th>Year</th>\n",
       "      <th>Runtime (Minutes)</th>\n",
       "      <th>Rating</th>\n",
       "      <th>Votes</th>\n",
       "      <th>Revenue (Millions)</th>\n",
       "      <th>Metascore</th>\n",
       "    </tr>\n",
       "  </thead>\n",
       "  <tbody>\n",
       "    <tr>\n",
       "      <th>0</th>\n",
       "      <td>1</td>\n",
       "      <td>Guardians of the Galaxy</td>\n",
       "      <td>Action,Adventure,Sci-Fi</td>\n",
       "      <td>A group of intergalactic criminals are forced ...</td>\n",
       "      <td>James Gunn</td>\n",
       "      <td>Chris Pratt, Vin Diesel, Bradley Cooper, Zoe S...</td>\n",
       "      <td>2014</td>\n",
       "      <td>121</td>\n",
       "      <td>8.1</td>\n",
       "      <td>757074</td>\n",
       "      <td>333.13</td>\n",
       "      <td>76.0</td>\n",
       "    </tr>\n",
       "    <tr>\n",
       "      <th>1</th>\n",
       "      <td>2</td>\n",
       "      <td>Prometheus</td>\n",
       "      <td>Adventure,Mystery,Sci-Fi</td>\n",
       "      <td>Following clues to the origin of mankind, a te...</td>\n",
       "      <td>Ridley Scott</td>\n",
       "      <td>Noomi Rapace, Logan Marshall-Green, Michael Fa...</td>\n",
       "      <td>2012</td>\n",
       "      <td>124</td>\n",
       "      <td>7.0</td>\n",
       "      <td>485820</td>\n",
       "      <td>126.46</td>\n",
       "      <td>65.0</td>\n",
       "    </tr>\n",
       "    <tr>\n",
       "      <th>2</th>\n",
       "      <td>3</td>\n",
       "      <td>Split</td>\n",
       "      <td>Horror,Thriller</td>\n",
       "      <td>Three girls are kidnapped by a man with a diag...</td>\n",
       "      <td>M. Night Shyamalan</td>\n",
       "      <td>James McAvoy, Anya Taylor-Joy, Haley Lu Richar...</td>\n",
       "      <td>2016</td>\n",
       "      <td>117</td>\n",
       "      <td>7.3</td>\n",
       "      <td>157606</td>\n",
       "      <td>138.12</td>\n",
       "      <td>62.0</td>\n",
       "    </tr>\n",
       "  </tbody>\n",
       "</table>\n",
       "</div>"
      ],
      "text/plain": [
       "   Rank                    Title                     Genre  \\\n",
       "0     1  Guardians of the Galaxy   Action,Adventure,Sci-Fi   \n",
       "1     2               Prometheus  Adventure,Mystery,Sci-Fi   \n",
       "2     3                    Split           Horror,Thriller   \n",
       "\n",
       "                                         Description            Director  \\\n",
       "0  A group of intergalactic criminals are forced ...          James Gunn   \n",
       "1  Following clues to the origin of mankind, a te...        Ridley Scott   \n",
       "2  Three girls are kidnapped by a man with a diag...  M. Night Shyamalan   \n",
       "\n",
       "                                              Actors  Year  Runtime (Minutes)  \\\n",
       "0  Chris Pratt, Vin Diesel, Bradley Cooper, Zoe S...  2014                121   \n",
       "1  Noomi Rapace, Logan Marshall-Green, Michael Fa...  2012                124   \n",
       "2  James McAvoy, Anya Taylor-Joy, Haley Lu Richar...  2016                117   \n",
       "\n",
       "   Rating   Votes  Revenue (Millions)  Metascore  \n",
       "0     8.1  757074              333.13       76.0  \n",
       "1     7.0  485820              126.46       65.0  \n",
       "2     7.3  157606              138.12       62.0  "
      ]
     },
     "execution_count": 2,
     "metadata": {},
     "output_type": "execute_result"
    }
   ],
   "source": [
    "data = pd.read_csv('IMDB-Movie-Data.csv')\n",
    "print(data.shape)\n",
    "\n",
    "data.head(3)"
   ]
  },
  {
   "cell_type": "markdown",
   "metadata": {},
   "source": [
    "## Что делать с NaN?"
   ]
  },
  {
   "cell_type": "code",
   "execution_count": 3,
   "metadata": {
    "tags": []
   },
   "outputs": [
    {
     "data": {
      "text/plain": [
       "Rank                  False\n",
       "Title                 False\n",
       "Genre                 False\n",
       "Description           False\n",
       "Director              False\n",
       "Actors                False\n",
       "Year                  False\n",
       "Runtime (Minutes)     False\n",
       "Rating                False\n",
       "Votes                 False\n",
       "Revenue (Millions)    False\n",
       "Metascore             False\n",
       "dtype: bool"
      ]
     },
     "execution_count": 3,
     "metadata": {},
     "output_type": "execute_result"
    }
   ],
   "source": [
    "# 3. Превратить NaN в средние значения по колонке\n",
    "\n",
    "# вычисляем средние для колонок с пустыми значениями\n",
    "meta_mean = data.Metascore.mean()\n",
    "rev_mean = data['Revenue (Millions)'].mean()\n",
    "\n",
    "#заменяем пустоты на средние значения\n",
    "data.Metascore.fillna(meta_mean, inplace=True)\n",
    "data['Revenue (Millions)'].fillna(rev_mean, inplace=True)\n",
    "\n",
    "# проверяем присутствие NaN\n",
    "data.isna().any()"
   ]
  },
  {
   "cell_type": "markdown",
   "metadata": {},
   "source": [
    "## Подготовка данных\n",
    "\n",
    "Попробуем предсказывать рейтинг фильма по данным его описания, года, длины в минутах и кассовых сборов\n",
    "\n",
    "Колонка \"Rating\" станет **целевой переменной, или таргетом** (y)<br>\n",
    "Остальных данные будут **обучающей выборкой** (X)"
   ]
  },
  {
   "cell_type": "code",
   "execution_count": 4,
   "metadata": {},
   "outputs": [
    {
     "data": {
      "text/plain": [
       "0      A group of intergalactic criminals are forced ...\n",
       "1      Following clues to the origin of mankind, a te...\n",
       "2      Three girls are kidnapped by a man with a diag...\n",
       "3      In a city of humanoid animals, a hustling thea...\n",
       "4      A secret government agency recruits some of th...\n",
       "                             ...                        \n",
       "995    A tight-knit team of rising investigators, alo...\n",
       "996    Three American college students studying abroa...\n",
       "997    Romantic sparks occur between two dance studen...\n",
       "998    A pair of friends embark on a mission to reuni...\n",
       "999    A stuffy businessman finds himself trapped ins...\n",
       "Name: Description, Length: 1000, dtype: object"
      ]
     },
     "execution_count": 4,
     "metadata": {},
     "output_type": "execute_result"
    }
   ],
   "source": [
    "data.Description"
   ]
  },
  {
   "cell_type": "code",
   "execution_count": 5,
   "metadata": {},
   "outputs": [
    {
     "name": "stderr",
     "output_type": "stream",
     "text": [
      "[nltk_data] Downloading package wordnet to /home/senya/nltk_data...\n",
      "[nltk_data]   Package wordnet is already up-to-date!\n",
      "[nltk_data] Downloading package omw-1.4 to /home/senya/nltk_data...\n",
      "[nltk_data]   Package omw-1.4 is already up-to-date!\n"
     ]
    },
    {
     "data": {
      "text/plain": [
       "True"
      ]
     },
     "execution_count": 5,
     "metadata": {},
     "output_type": "execute_result"
    }
   ],
   "source": [
    "import nltk\n",
    "nltk.download('wordnet')\n",
    "nltk.download('omw-1.4')"
   ]
  },
  {
   "cell_type": "code",
   "execution_count": 6,
   "metadata": {},
   "outputs": [],
   "source": [
    "from nltk.stem.wordnet import WordNetLemmatizer\n",
    "lmtzr = WordNetLemmatizer()"
   ]
  },
  {
   "cell_type": "code",
   "execution_count": 7,
   "metadata": {},
   "outputs": [],
   "source": [
    "import re\n",
    "from string import punctuation\n",
    "def preprocess(text):\n",
    "    tokens = re.sub('#+', ' ', text.lower()).split()\n",
    "    tokens = [token.strip(punctuation) for token in tokens]\n",
    "    tokens = [lmtzr.lemmatize(token) for token in tokens if token]\n",
    "    return tokens"
   ]
  },
  {
   "cell_type": "code",
   "execution_count": 8,
   "metadata": {
    "tags": []
   },
   "outputs": [
    {
     "data": {
      "text/plain": [
       "0      [a, group, of, intergalactic, criminal, are, f...\n",
       "1      [following, clue, to, the, origin, of, mankind...\n",
       "2      [three, girl, are, kidnapped, by, a, man, with...\n",
       "3      [in, a, city, of, humanoid, animal, a, hustlin...\n",
       "4      [a, secret, government, agency, recruit, some,...\n",
       "                             ...                        \n",
       "995    [a, tight-knit, team, of, rising, investigator...\n",
       "996    [three, american, college, student, studying, ...\n",
       "997    [romantic, spark, occur, between, two, dance, ...\n",
       "998    [a, pair, of, friend, embark, on, a, mission, ...\n",
       "999    [a, stuffy, businessman, find, himself, trappe...\n",
       "Name: text, Length: 1000, dtype: object"
      ]
     },
     "execution_count": 8,
     "metadata": {},
     "output_type": "execute_result"
    }
   ],
   "source": [
    "# подготовим описания фильмов\n",
    "data[\"text\"] = data.Description.apply(preprocess) \n",
    "\n",
    "data[\"text\"]"
   ]
  },
  {
   "cell_type": "code",
   "execution_count": 10,
   "metadata": {
    "tags": []
   },
   "outputs": [],
   "source": [
    "input_text = list(data.text.values)"
   ]
  },
  {
   "cell_type": "code",
   "execution_count": 11,
   "metadata": {
    "tags": []
   },
   "outputs": [
    {
     "data": {
      "text/plain": [
       "[TaggedDocument(words=['the', 'adventure', 'of', 'writer', 'newt', 'scamander', 'in', 'new', \"york's\", 'secret', 'community', 'of', 'witch', 'and', 'wizard', 'seventy', 'year', 'before', 'harry', 'potter', 'read', 'his', 'book', 'in', 'school'], tags=[10]),\n",
       " TaggedDocument(words=['the', 'story', 'of', 'a', 'team', 'of', 'female', 'african-american', 'mathematician', 'who', 'served', 'a', 'vital', 'role', 'in', 'nasa', 'during', 'the', 'early', 'year', 'of', 'the', 'u.s', 'space', 'program'], tags=[11])]"
      ]
     },
     "execution_count": 11,
     "metadata": {},
     "output_type": "execute_result"
    }
   ],
   "source": [
    "documents = [TaggedDocument(doc, [i]) for i, doc in enumerate(input_text)]\n",
    "documents[10:12]"
   ]
  },
  {
   "cell_type": "markdown",
   "metadata": {},
   "source": [
    "обучаем модель на текстах описаний фильмов (можно поизменять параметры)"
   ]
  },
  {
   "cell_type": "code",
   "execution_count": 12,
   "metadata": {},
   "outputs": [],
   "source": [
    "n = 7\n",
    "model = Doc2Vec(documents, vector_size=n, window=2, min_count=1, workers=4, hs=1)"
   ]
  },
  {
   "cell_type": "code",
   "execution_count": 13,
   "metadata": {},
   "outputs": [],
   "source": [
    "model.save(\"D2V.model\") # сохранение модели"
   ]
  },
  {
   "cell_type": "code",
   "execution_count": 14,
   "metadata": {},
   "outputs": [
    {
     "data": {
      "text/plain": [
       "array([ 0.14720327, -0.03376976, -0.3993985 ,  0.44332057,  0.11461276,\n",
       "        0.09021867,  0.05458991], dtype=float32)"
      ]
     },
     "execution_count": 14,
     "metadata": {},
     "output_type": "execute_result"
    }
   ],
   "source": [
    "# так можно посмотреть на векторы текстов, на которых училась модель\n",
    "# индекс [] около documents -- это индекс текста из датасета\n",
    "\n",
    "model.dv[documents[0].tags[0]]\n"
   ]
  },
  {
   "cell_type": "markdown",
   "metadata": {},
   "source": [
    "Теперь нужно добавить векторы в датасет с остальными параметрами"
   ]
  },
  {
   "cell_type": "code",
   "execution_count": 15,
   "metadata": {},
   "outputs": [],
   "source": [
    "# создадим список с векторами для каждого текста\n",
    "vectors = []\n",
    "for x in documents:\n",
    "    vec = list(model.dv[x.tags][0])\n",
    "    vectors.append(vec)"
   ]
  },
  {
   "cell_type": "code",
   "execution_count": 16,
   "metadata": {
    "tags": []
   },
   "outputs": [
    {
     "data": {
      "text/html": [
       "<div>\n",
       "<style scoped>\n",
       "    .dataframe tbody tr th:only-of-type {\n",
       "        vertical-align: middle;\n",
       "    }\n",
       "\n",
       "    .dataframe tbody tr th {\n",
       "        vertical-align: top;\n",
       "    }\n",
       "\n",
       "    .dataframe thead th {\n",
       "        text-align: right;\n",
       "    }\n",
       "</style>\n",
       "<table border=\"1\" class=\"dataframe\">\n",
       "  <thead>\n",
       "    <tr style=\"text-align: right;\">\n",
       "      <th></th>\n",
       "      <th>v0</th>\n",
       "      <th>v1</th>\n",
       "      <th>v2</th>\n",
       "      <th>v3</th>\n",
       "      <th>v4</th>\n",
       "      <th>v5</th>\n",
       "      <th>v6</th>\n",
       "    </tr>\n",
       "  </thead>\n",
       "  <tbody>\n",
       "    <tr>\n",
       "      <th>0</th>\n",
       "      <td>0.147203</td>\n",
       "      <td>-0.033770</td>\n",
       "      <td>-0.399399</td>\n",
       "      <td>0.443321</td>\n",
       "      <td>0.114613</td>\n",
       "      <td>0.090219</td>\n",
       "      <td>0.054590</td>\n",
       "    </tr>\n",
       "    <tr>\n",
       "      <th>1</th>\n",
       "      <td>-0.148316</td>\n",
       "      <td>0.082283</td>\n",
       "      <td>-0.375760</td>\n",
       "      <td>0.368563</td>\n",
       "      <td>0.264143</td>\n",
       "      <td>-0.206247</td>\n",
       "      <td>0.173018</td>\n",
       "    </tr>\n",
       "    <tr>\n",
       "      <th>2</th>\n",
       "      <td>0.272906</td>\n",
       "      <td>-0.306117</td>\n",
       "      <td>-0.158219</td>\n",
       "      <td>0.559273</td>\n",
       "      <td>-0.268186</td>\n",
       "      <td>0.089990</td>\n",
       "      <td>0.642864</td>\n",
       "    </tr>\n",
       "    <tr>\n",
       "      <th>3</th>\n",
       "      <td>0.049968</td>\n",
       "      <td>-0.001687</td>\n",
       "      <td>-0.152468</td>\n",
       "      <td>0.610013</td>\n",
       "      <td>-0.080624</td>\n",
       "      <td>-0.027086</td>\n",
       "      <td>0.650576</td>\n",
       "    </tr>\n",
       "    <tr>\n",
       "      <th>4</th>\n",
       "      <td>0.088828</td>\n",
       "      <td>-0.081679</td>\n",
       "      <td>-0.213298</td>\n",
       "      <td>0.653106</td>\n",
       "      <td>-0.144925</td>\n",
       "      <td>-0.164846</td>\n",
       "      <td>0.569208</td>\n",
       "    </tr>\n",
       "    <tr>\n",
       "      <th>...</th>\n",
       "      <td>...</td>\n",
       "      <td>...</td>\n",
       "      <td>...</td>\n",
       "      <td>...</td>\n",
       "      <td>...</td>\n",
       "      <td>...</td>\n",
       "      <td>...</td>\n",
       "    </tr>\n",
       "    <tr>\n",
       "      <th>995</th>\n",
       "      <td>-0.119215</td>\n",
       "      <td>0.173668</td>\n",
       "      <td>-0.566188</td>\n",
       "      <td>0.335503</td>\n",
       "      <td>-0.035567</td>\n",
       "      <td>0.249297</td>\n",
       "      <td>0.721935</td>\n",
       "    </tr>\n",
       "    <tr>\n",
       "      <th>996</th>\n",
       "      <td>0.466348</td>\n",
       "      <td>0.014694</td>\n",
       "      <td>0.034058</td>\n",
       "      <td>0.537794</td>\n",
       "      <td>-0.039908</td>\n",
       "      <td>-0.773337</td>\n",
       "      <td>0.381744</td>\n",
       "    </tr>\n",
       "    <tr>\n",
       "      <th>997</th>\n",
       "      <td>-0.029680</td>\n",
       "      <td>0.013548</td>\n",
       "      <td>-0.508374</td>\n",
       "      <td>0.693552</td>\n",
       "      <td>0.305587</td>\n",
       "      <td>-0.273351</td>\n",
       "      <td>0.151031</td>\n",
       "    </tr>\n",
       "    <tr>\n",
       "      <th>998</th>\n",
       "      <td>0.023137</td>\n",
       "      <td>0.045992</td>\n",
       "      <td>-0.016479</td>\n",
       "      <td>0.083811</td>\n",
       "      <td>0.109477</td>\n",
       "      <td>0.104356</td>\n",
       "      <td>0.051287</td>\n",
       "    </tr>\n",
       "    <tr>\n",
       "      <th>999</th>\n",
       "      <td>-0.210734</td>\n",
       "      <td>-0.286968</td>\n",
       "      <td>-0.416913</td>\n",
       "      <td>0.356192</td>\n",
       "      <td>-0.327334</td>\n",
       "      <td>0.220576</td>\n",
       "      <td>0.217621</td>\n",
       "    </tr>\n",
       "  </tbody>\n",
       "</table>\n",
       "<p>1000 rows × 7 columns</p>\n",
       "</div>"
      ],
      "text/plain": [
       "           v0        v1        v2        v3        v4        v5        v6\n",
       "0    0.147203 -0.033770 -0.399399  0.443321  0.114613  0.090219  0.054590\n",
       "1   -0.148316  0.082283 -0.375760  0.368563  0.264143 -0.206247  0.173018\n",
       "2    0.272906 -0.306117 -0.158219  0.559273 -0.268186  0.089990  0.642864\n",
       "3    0.049968 -0.001687 -0.152468  0.610013 -0.080624 -0.027086  0.650576\n",
       "4    0.088828 -0.081679 -0.213298  0.653106 -0.144925 -0.164846  0.569208\n",
       "..        ...       ...       ...       ...       ...       ...       ...\n",
       "995 -0.119215  0.173668 -0.566188  0.335503 -0.035567  0.249297  0.721935\n",
       "996  0.466348  0.014694  0.034058  0.537794 -0.039908 -0.773337  0.381744\n",
       "997 -0.029680  0.013548 -0.508374  0.693552  0.305587 -0.273351  0.151031\n",
       "998  0.023137  0.045992 -0.016479  0.083811  0.109477  0.104356  0.051287\n",
       "999 -0.210734 -0.286968 -0.416913  0.356192 -0.327334  0.220576  0.217621\n",
       "\n",
       "[1000 rows x 7 columns]"
      ]
     },
     "execution_count": 16,
     "metadata": {},
     "output_type": "execute_result"
    }
   ],
   "source": [
    "cols = [f'v{i}' for i in range(n)]\n",
    "# так получим датафрейм, где все компоненты векторов в отдельных столбцах\n",
    "split_df = pd.DataFrame(vectors,\n",
    "                        columns=cols)\n",
    "\n",
    "split_df\n"
   ]
  },
  {
   "cell_type": "code",
   "execution_count": 17,
   "metadata": {},
   "outputs": [
    {
     "data": {
      "text/plain": [
       "(1000, 20)"
      ]
     },
     "execution_count": 17,
     "metadata": {},
     "output_type": "execute_result"
    }
   ],
   "source": [
    "# теперь добавим его к основному датафрейму\n",
    "result = data.join(split_df, how='left')\n",
    "result.shape"
   ]
  },
  {
   "cell_type": "code",
   "execution_count": 18,
   "metadata": {},
   "outputs": [
    {
     "data": {
      "text/html": [
       "<div>\n",
       "<style scoped>\n",
       "    .dataframe tbody tr th:only-of-type {\n",
       "        vertical-align: middle;\n",
       "    }\n",
       "\n",
       "    .dataframe tbody tr th {\n",
       "        vertical-align: top;\n",
       "    }\n",
       "\n",
       "    .dataframe thead th {\n",
       "        text-align: right;\n",
       "    }\n",
       "</style>\n",
       "<table border=\"1\" class=\"dataframe\">\n",
       "  <thead>\n",
       "    <tr style=\"text-align: right;\">\n",
       "      <th></th>\n",
       "      <th>Rank</th>\n",
       "      <th>Title</th>\n",
       "      <th>Genre</th>\n",
       "      <th>Description</th>\n",
       "      <th>Director</th>\n",
       "      <th>Actors</th>\n",
       "      <th>Year</th>\n",
       "      <th>Runtime (Minutes)</th>\n",
       "      <th>Rating</th>\n",
       "      <th>Votes</th>\n",
       "      <th>Revenue (Millions)</th>\n",
       "      <th>Metascore</th>\n",
       "      <th>text</th>\n",
       "      <th>v0</th>\n",
       "      <th>v1</th>\n",
       "      <th>v2</th>\n",
       "      <th>v3</th>\n",
       "      <th>v4</th>\n",
       "      <th>v5</th>\n",
       "      <th>v6</th>\n",
       "    </tr>\n",
       "  </thead>\n",
       "  <tbody>\n",
       "    <tr>\n",
       "      <th>0</th>\n",
       "      <td>1</td>\n",
       "      <td>Guardians of the Galaxy</td>\n",
       "      <td>Action,Adventure,Sci-Fi</td>\n",
       "      <td>A group of intergalactic criminals are forced ...</td>\n",
       "      <td>James Gunn</td>\n",
       "      <td>Chris Pratt, Vin Diesel, Bradley Cooper, Zoe S...</td>\n",
       "      <td>2014</td>\n",
       "      <td>121</td>\n",
       "      <td>8.1</td>\n",
       "      <td>757074</td>\n",
       "      <td>333.13</td>\n",
       "      <td>76.0</td>\n",
       "      <td>[a, group, of, intergalactic, criminal, are, f...</td>\n",
       "      <td>0.147203</td>\n",
       "      <td>-0.033770</td>\n",
       "      <td>-0.399399</td>\n",
       "      <td>0.443321</td>\n",
       "      <td>0.114613</td>\n",
       "      <td>0.090219</td>\n",
       "      <td>0.054590</td>\n",
       "    </tr>\n",
       "    <tr>\n",
       "      <th>1</th>\n",
       "      <td>2</td>\n",
       "      <td>Prometheus</td>\n",
       "      <td>Adventure,Mystery,Sci-Fi</td>\n",
       "      <td>Following clues to the origin of mankind, a te...</td>\n",
       "      <td>Ridley Scott</td>\n",
       "      <td>Noomi Rapace, Logan Marshall-Green, Michael Fa...</td>\n",
       "      <td>2012</td>\n",
       "      <td>124</td>\n",
       "      <td>7.0</td>\n",
       "      <td>485820</td>\n",
       "      <td>126.46</td>\n",
       "      <td>65.0</td>\n",
       "      <td>[following, clue, to, the, origin, of, mankind...</td>\n",
       "      <td>-0.148316</td>\n",
       "      <td>0.082283</td>\n",
       "      <td>-0.375760</td>\n",
       "      <td>0.368563</td>\n",
       "      <td>0.264143</td>\n",
       "      <td>-0.206247</td>\n",
       "      <td>0.173018</td>\n",
       "    </tr>\n",
       "    <tr>\n",
       "      <th>2</th>\n",
       "      <td>3</td>\n",
       "      <td>Split</td>\n",
       "      <td>Horror,Thriller</td>\n",
       "      <td>Three girls are kidnapped by a man with a diag...</td>\n",
       "      <td>M. Night Shyamalan</td>\n",
       "      <td>James McAvoy, Anya Taylor-Joy, Haley Lu Richar...</td>\n",
       "      <td>2016</td>\n",
       "      <td>117</td>\n",
       "      <td>7.3</td>\n",
       "      <td>157606</td>\n",
       "      <td>138.12</td>\n",
       "      <td>62.0</td>\n",
       "      <td>[three, girl, are, kidnapped, by, a, man, with...</td>\n",
       "      <td>0.272906</td>\n",
       "      <td>-0.306117</td>\n",
       "      <td>-0.158219</td>\n",
       "      <td>0.559273</td>\n",
       "      <td>-0.268186</td>\n",
       "      <td>0.089990</td>\n",
       "      <td>0.642864</td>\n",
       "    </tr>\n",
       "  </tbody>\n",
       "</table>\n",
       "</div>"
      ],
      "text/plain": [
       "   Rank                    Title                     Genre  \\\n",
       "0     1  Guardians of the Galaxy   Action,Adventure,Sci-Fi   \n",
       "1     2               Prometheus  Adventure,Mystery,Sci-Fi   \n",
       "2     3                    Split           Horror,Thriller   \n",
       "\n",
       "                                         Description            Director  \\\n",
       "0  A group of intergalactic criminals are forced ...          James Gunn   \n",
       "1  Following clues to the origin of mankind, a te...        Ridley Scott   \n",
       "2  Three girls are kidnapped by a man with a diag...  M. Night Shyamalan   \n",
       "\n",
       "                                              Actors  Year  Runtime (Minutes)  \\\n",
       "0  Chris Pratt, Vin Diesel, Bradley Cooper, Zoe S...  2014                121   \n",
       "1  Noomi Rapace, Logan Marshall-Green, Michael Fa...  2012                124   \n",
       "2  James McAvoy, Anya Taylor-Joy, Haley Lu Richar...  2016                117   \n",
       "\n",
       "   Rating   Votes  Revenue (Millions)  Metascore  \\\n",
       "0     8.1  757074              333.13       76.0   \n",
       "1     7.0  485820              126.46       65.0   \n",
       "2     7.3  157606              138.12       62.0   \n",
       "\n",
       "                                                text        v0        v1  \\\n",
       "0  [a, group, of, intergalactic, criminal, are, f...  0.147203 -0.033770   \n",
       "1  [following, clue, to, the, origin, of, mankind... -0.148316  0.082283   \n",
       "2  [three, girl, are, kidnapped, by, a, man, with...  0.272906 -0.306117   \n",
       "\n",
       "         v2        v3        v4        v5        v6  \n",
       "0 -0.399399  0.443321  0.114613  0.090219  0.054590  \n",
       "1 -0.375760  0.368563  0.264143 -0.206247  0.173018  \n",
       "2 -0.158219  0.559273 -0.268186  0.089990  0.642864  "
      ]
     },
     "execution_count": 18,
     "metadata": {},
     "output_type": "execute_result"
    }
   ],
   "source": [
    "result.head(3)"
   ]
  },
  {
   "cell_type": "code",
   "execution_count": 19,
   "metadata": {
    "tags": []
   },
   "outputs": [
    {
     "data": {
      "text/html": [
       "<div>\n",
       "<style scoped>\n",
       "    .dataframe tbody tr th:only-of-type {\n",
       "        vertical-align: middle;\n",
       "    }\n",
       "\n",
       "    .dataframe tbody tr th {\n",
       "        vertical-align: top;\n",
       "    }\n",
       "\n",
       "    .dataframe thead th {\n",
       "        text-align: right;\n",
       "    }\n",
       "</style>\n",
       "<table border=\"1\" class=\"dataframe\">\n",
       "  <thead>\n",
       "    <tr style=\"text-align: right;\">\n",
       "      <th></th>\n",
       "      <th>Runtime (Minutes)</th>\n",
       "      <th>Year</th>\n",
       "      <th>Rating</th>\n",
       "      <th>Votes</th>\n",
       "      <th>Revenue (Millions)</th>\n",
       "      <th>Metascore</th>\n",
       "      <th>v0</th>\n",
       "      <th>v1</th>\n",
       "      <th>v2</th>\n",
       "      <th>v3</th>\n",
       "      <th>v4</th>\n",
       "      <th>v5</th>\n",
       "      <th>v6</th>\n",
       "    </tr>\n",
       "  </thead>\n",
       "  <tbody>\n",
       "    <tr>\n",
       "      <th>0</th>\n",
       "      <td>121</td>\n",
       "      <td>2014</td>\n",
       "      <td>8.1</td>\n",
       "      <td>757074</td>\n",
       "      <td>333.13</td>\n",
       "      <td>76.0</td>\n",
       "      <td>0.147203</td>\n",
       "      <td>-0.033770</td>\n",
       "      <td>-0.399399</td>\n",
       "      <td>0.443321</td>\n",
       "      <td>0.114613</td>\n",
       "      <td>0.090219</td>\n",
       "      <td>0.054590</td>\n",
       "    </tr>\n",
       "    <tr>\n",
       "      <th>1</th>\n",
       "      <td>124</td>\n",
       "      <td>2012</td>\n",
       "      <td>7.0</td>\n",
       "      <td>485820</td>\n",
       "      <td>126.46</td>\n",
       "      <td>65.0</td>\n",
       "      <td>-0.148316</td>\n",
       "      <td>0.082283</td>\n",
       "      <td>-0.375760</td>\n",
       "      <td>0.368563</td>\n",
       "      <td>0.264143</td>\n",
       "      <td>-0.206247</td>\n",
       "      <td>0.173018</td>\n",
       "    </tr>\n",
       "    <tr>\n",
       "      <th>2</th>\n",
       "      <td>117</td>\n",
       "      <td>2016</td>\n",
       "      <td>7.3</td>\n",
       "      <td>157606</td>\n",
       "      <td>138.12</td>\n",
       "      <td>62.0</td>\n",
       "      <td>0.272906</td>\n",
       "      <td>-0.306117</td>\n",
       "      <td>-0.158219</td>\n",
       "      <td>0.559273</td>\n",
       "      <td>-0.268186</td>\n",
       "      <td>0.089990</td>\n",
       "      <td>0.642864</td>\n",
       "    </tr>\n",
       "  </tbody>\n",
       "</table>\n",
       "</div>"
      ],
      "text/plain": [
       "   Runtime (Minutes)  Year  Rating   Votes  Revenue (Millions)  Metascore  \\\n",
       "0                121  2014     8.1  757074              333.13       76.0   \n",
       "1                124  2012     7.0  485820              126.46       65.0   \n",
       "2                117  2016     7.3  157606              138.12       62.0   \n",
       "\n",
       "         v0        v1        v2        v3        v4        v5        v6  \n",
       "0  0.147203 -0.033770 -0.399399  0.443321  0.114613  0.090219  0.054590  \n",
       "1 -0.148316  0.082283 -0.375760  0.368563  0.264143 -0.206247  0.173018  \n",
       "2  0.272906 -0.306117 -0.158219  0.559273 -0.268186  0.089990  0.642864  "
      ]
     },
     "execution_count": 19,
     "metadata": {},
     "output_type": "execute_result"
    }
   ],
   "source": [
    "# переопределим датасет, оставив только важное\n",
    "\n",
    "data_sm = result[['Runtime (Minutes)',\"Year\",\n",
    "                'Rating', 'Votes',\n",
    "                'Revenue (Millions)','Metascore',*cols]\n",
    "              ]\n",
    "\n",
    "\n",
    "data_sm.head(3)"
   ]
  },
  {
   "cell_type": "markdown",
   "metadata": {},
   "source": [
    "## Подготавливаем матрицы"
   ]
  },
  {
   "cell_type": "code",
   "execution_count": 20,
   "metadata": {
    "tags": []
   },
   "outputs": [
    {
     "data": {
      "text/plain": [
       "array([[ 1.21000000e+02,  2.01400000e+03,  7.57074000e+05, ...,\n",
       "         1.14612758e-01,  9.02186707e-02,  5.45899123e-02],\n",
       "       [ 1.24000000e+02,  2.01200000e+03,  4.85820000e+05, ...,\n",
       "         2.64143169e-01, -2.06247255e-01,  1.73018232e-01],\n",
       "       [ 1.17000000e+02,  2.01600000e+03,  1.57606000e+05, ...,\n",
       "        -2.68186420e-01,  8.99897367e-02,  6.42864287e-01],\n",
       "       ...,\n",
       "       [ 9.80000000e+01,  2.00800000e+03,  7.06990000e+04, ...,\n",
       "         3.05587471e-01, -2.73351014e-01,  1.51031241e-01],\n",
       "       [ 9.30000000e+01,  2.01400000e+03,  4.88100000e+03, ...,\n",
       "         1.09476805e-01,  1.04355820e-01,  5.12865707e-02],\n",
       "       [ 8.70000000e+01,  2.01600000e+03,  1.24350000e+04, ...,\n",
       "        -3.27333570e-01,  2.20576167e-01,  2.17621133e-01]])"
      ]
     },
     "metadata": {},
     "output_type": "display_data"
    },
    {
     "data": {
      "text/plain": [
       "(1000, 12)"
      ]
     },
     "metadata": {},
     "output_type": "display_data"
    }
   ],
   "source": [
    "# определяем X и y\n",
    "\n",
    "X = data_sm.drop([\"Rating\"],axis=1).values \n",
    "\n",
    "display(X, X.shape)"
   ]
  },
  {
   "cell_type": "code",
   "execution_count": 21,
   "metadata": {},
   "outputs": [
    {
     "data": {
      "text/plain": [
       "Runtime (Minutes)     False\n",
       "Year                  False\n",
       "Rating                False\n",
       "Votes                 False\n",
       "Revenue (Millions)    False\n",
       "Metascore             False\n",
       "v0                    False\n",
       "v1                    False\n",
       "v2                    False\n",
       "v3                    False\n",
       "v4                    False\n",
       "v5                    False\n",
       "v6                    False\n",
       "dtype: bool"
      ]
     },
     "execution_count": 21,
     "metadata": {},
     "output_type": "execute_result"
    }
   ],
   "source": [
    "data_sm.isna().any()"
   ]
  },
  {
   "cell_type": "code",
   "execution_count": 22,
   "metadata": {
    "tags": []
   },
   "outputs": [
    {
     "data": {
      "text/plain": [
       "(1000,)"
      ]
     },
     "execution_count": 22,
     "metadata": {},
     "output_type": "execute_result"
    }
   ],
   "source": [
    "y = data_sm['Rating'].values # отдельно вынесли массив со значениями скорости ветра\n",
    "y.shape"
   ]
  },
  {
   "cell_type": "markdown",
   "metadata": {},
   "source": [
    "Иногда бывает полезно [нормализовать](https://en.wikipedia.org/wiki/Normalization_(statistics)) данные: это позволяет исправить ситуацию, когда признаки представлены в разных единацах измерения. \n",
    "Для этого используется StandardScaler. "
   ]
  },
  {
   "cell_type": "markdown",
   "metadata": {},
   "source": [
    "До нормализации:"
   ]
  },
  {
   "cell_type": "code",
   "execution_count": 23,
   "metadata": {},
   "outputs": [
    {
     "data": {
      "text/plain": [
       "[121.0,\n",
       " 2014.0,\n",
       " 757074.0,\n",
       " 333.13,\n",
       " 76.0,\n",
       " 0.147203266620636,\n",
       " -0.03376976028084755,\n",
       " -0.3993985056877136,\n",
       " 0.4433205723762512,\n",
       " 0.11461275815963745,\n",
       " 0.0902186706662178,\n",
       " 0.05458991229534149]"
      ]
     },
     "execution_count": 23,
     "metadata": {},
     "output_type": "execute_result"
    }
   ],
   "source": [
    "list(X[0])"
   ]
  },
  {
   "cell_type": "code",
   "execution_count": 24,
   "metadata": {},
   "outputs": [],
   "source": [
    "# использзуем стандартизатор\n",
    "sc = StandardScaler()\n",
    "\n",
    "X_train, X_test, y_train, y_test = train_test_split(sc.fit_transform(X), y, random_state=42)"
   ]
  },
  {
   "cell_type": "markdown",
   "metadata": {},
   "source": [
    "После:"
   ]
  },
  {
   "cell_type": "code",
   "execution_count": 25,
   "metadata": {},
   "outputs": [
    {
     "data": {
      "text/plain": [
       "[0.4163497512303056,\n",
       " 0.37979525138136244,\n",
       " 3.1126899627963738,\n",
       " 2.5961363010556906,\n",
       " 1.0233613578368184,\n",
       " -0.17279651117341935,\n",
       " 0.444142925396914,\n",
       " -0.16466285153643292,\n",
       " -0.6109909839172423,\n",
       " 1.180101564840596,\n",
       " 0.4294406326562542,\n",
       " -1.389626396711949]"
      ]
     },
     "execution_count": 25,
     "metadata": {},
     "output_type": "execute_result"
    }
   ],
   "source": [
    "list(sc.fit_transform(X)[0])"
   ]
  },
  {
   "cell_type": "markdown",
   "metadata": {},
   "source": [
    "теперь с данными удобнее работать и обучать"
   ]
  },
  {
   "cell_type": "code",
   "execution_count": 26,
   "metadata": {},
   "outputs": [],
   "source": [
    "from math import sqrt"
   ]
  },
  {
   "cell_type": "code",
   "execution_count": 27,
   "metadata": {
    "tags": []
   },
   "outputs": [
    {
     "name": "stdout",
     "output_type": "stream",
     "text": [
      "alpha 0.0001\n",
      "MAE 0.4876\n",
      "MSE 0.4664\n",
      "RMSE 0.683\n"
     ]
    }
   ],
   "source": [
    "alpha=0.0001\n",
    "model = Ridge(alpha=alpha)\n",
    "model.fit(X_train, y_train)\n",
    "\n",
    "# давайте предскажем результат для тестовой выборки\n",
    "y_preds = model.predict(X_test)\n",
    "print('alpha', alpha)\n",
    "print('MAE', round(mean_absolute_error(y_test, y_preds), 4))\n",
    "print('MSE', round(mean_squared_error(y_test, y_preds), 4))\n",
    "print('RMSE', round(sqrt(mean_squared_error(y_test, y_preds)), 4))"
   ]
  },
  {
   "cell_type": "code",
   "execution_count": 28,
   "metadata": {},
   "outputs": [
    {
     "name": "stdout",
     "output_type": "stream",
     "text": [
      "alpha 2\n",
      "MAE 0.4876\n",
      "MSE 0.4666\n",
      "RMSE 0.6831\n"
     ]
    }
   ],
   "source": [
    "alpha = 2\n",
    "model = Ridge(alpha=alpha)\n",
    "model.fit(X_train, y_train)\n",
    "\n",
    "# давайте предскажем результат для тестовой выборки\n",
    "y_preds = model.predict(X_test)\n",
    "print('alpha', alpha)\n",
    "print('MAE', round(mean_absolute_error(y_test, y_preds), 4))\n",
    "print('MSE', round(mean_squared_error(y_test, y_preds), 4))\n",
    "print('RMSE', round(sqrt(mean_squared_error(y_test, y_preds)), 4))"
   ]
  },
  {
   "cell_type": "code",
   "execution_count": 29,
   "metadata": {},
   "outputs": [
    {
     "name": "stdout",
     "output_type": "stream",
     "text": [
      "alpha 1000\n",
      "MAE 0.5625\n",
      "MSE 0.5951\n",
      "RMSE 0.7714\n"
     ]
    }
   ],
   "source": [
    "alpha = 1000\n",
    "model = Ridge(alpha=alpha)\n",
    "model.fit(X_train, y_train)\n",
    "\n",
    "# давайте предскажем результат для тестовой выборки\n",
    "y_preds = model.predict(X_test)\n",
    "print('alpha', alpha)\n",
    "print('MAE', round(mean_absolute_error(y_test, y_preds), 4))\n",
    "print('MSE', round(mean_squared_error(y_test, y_preds), 4))\n",
    "print('RMSE', round(sqrt(mean_squared_error(y_test, y_preds)), 4))"
   ]
  },
  {
   "cell_type": "markdown",
   "metadata": {},
   "source": [
    "### оценка результатов алгоритма\n",
    "\n",
    "В качестве метрики будем использовать [среднюю абсолютную ошибку](https://www.youtube.com/watch?v=ZejnwbcU8nw). Она показывает отклонение от правильного ответа в тех же единах измерения\n",
    "\n",
    "*(а вообще есть [разные способы](https://towardsdatascience.com/what-are-the-best-metrics-to-evaluate-your-regression-model-418ca481755b))*"
   ]
  },
  {
   "cell_type": "markdown",
   "metadata": {},
   "source": [
    "Попробуйте разные значения для параметра регуляризации alpha при обучении модели. Как они влияют на величину ошибки?"
   ]
  },
  {
   "cell_type": "markdown",
   "metadata": {},
   "source": [
    "Настройка параметра alpha для Ridge не особо влияет, если мы не берем экстремально большое значение alpha (тогда ошибка растет). "
   ]
  },
  {
   "cell_type": "markdown",
   "metadata": {},
   "source": [
    "Результаты для Ridge получились хорошие (mae < 0.5) при небольших альфа."
   ]
  },
  {
   "cell_type": "markdown",
   "metadata": {},
   "source": [
    "## Попробуем Лассо"
   ]
  },
  {
   "cell_type": "code",
   "execution_count": 30,
   "metadata": {},
   "outputs": [
    {
     "name": "stdout",
     "output_type": "stream",
     "text": [
      "alpha 0.001\n",
      "MAE 0.4875\n",
      "MSE 0.4666\n",
      "RMSE 0.6831\n"
     ]
    }
   ],
   "source": [
    "alpha=0.001\n",
    "model = Lasso(alpha=alpha)\n",
    "model.fit(X_train, y_train)\n",
    "\n",
    "# давайте предскажем результат для тестовой выборки\n",
    "y_preds = model.predict(X_test)\n",
    "print('alpha', alpha)\n",
    "print('MAE', round(mean_absolute_error(y_test, y_preds), 4))\n",
    "print('MSE', round(mean_squared_error(y_test, y_preds), 4))\n",
    "print('RMSE', round(sqrt(mean_squared_error(y_test, y_preds)), 4))"
   ]
  },
  {
   "cell_type": "markdown",
   "metadata": {},
   "source": [
    "Лассо выучился хорошо."
   ]
  },
  {
   "cell_type": "code",
   "execution_count": 31,
   "metadata": {},
   "outputs": [
    {
     "name": "stdout",
     "output_type": "stream",
     "text": [
      "alpha 1\n",
      "MAE 0.7736\n",
      "MSE 0.9734\n",
      "RMSE 0.9866\n"
     ]
    }
   ],
   "source": [
    "alpha = 1\n",
    "model = Lasso(alpha=alpha)\n",
    "model.fit(X_train, y_train)\n",
    "\n",
    "# давайте предскажем результат для тестовой выборки\n",
    "y_preds = model.predict(X_test)\n",
    "print('alpha', alpha)\n",
    "print('MAE', round(mean_absolute_error(y_test, y_preds), 4))\n",
    "print('MSE', round(mean_squared_error(y_test, y_preds), 4))\n",
    "print('RMSE', round(sqrt(mean_squared_error(y_test, y_preds)), 4))"
   ]
  },
  {
   "cell_type": "markdown",
   "metadata": {},
   "source": [
    "Но Лассо более чувствителен к изменению alpha. Тут вышло плохо."
   ]
  },
  {
   "cell_type": "markdown",
   "metadata": {},
   "source": [
    "### LinearRegression"
   ]
  },
  {
   "cell_type": "code",
   "execution_count": 32,
   "metadata": {},
   "outputs": [
    {
     "name": "stdout",
     "output_type": "stream",
     "text": [
      "MAE 0.4876\n",
      "MSE 0.4664\n",
      "RMSE 0.683\n"
     ]
    }
   ],
   "source": [
    "model = LinearRegression()\n",
    "model.fit(X_train, y_train)\n",
    "\n",
    "# давайте предскажем результат для тестовой выборки\n",
    "y_preds = model.predict(X_test)\n",
    "\n",
    "print('MAE', round(mean_absolute_error(y_test, y_preds), 4))\n",
    "print('MSE', round(mean_squared_error(y_test, y_preds), 4))\n",
    "print('RMSE', round(sqrt(mean_squared_error(y_test, y_preds)), 4))"
   ]
  },
  {
   "cell_type": "markdown",
   "metadata": {},
   "source": [
    "Больших различий между моделями нет.\n",
    "\n",
    "О моделях и альфе (лямбде):\n",
    "\n",
    "\n",
    "Чем больше лямбда, тем сильнее модель штрафуется за величину коэффициентов и их количество. Если занулить лямбду, мы получим самую обычную функцию потерь методом наименьших квадратов, соответственно — самую обычную регрессию.\n",
    "\n",
    "Существенно отличие регрессии лассо от ридж в том, что лассо зануляет коэффициенты. То есть буквально перед какими-то фичами она ставит 0 и в модели они не рассматриваются. Ридж же может коэффициент сильно уменьшить, но не занулить. \n",
    "\n",
    "\n",
    "В общем, видимо, у нас не так много параметров и, возможно, данных, поэтому все хорошо справлется."
   ]
  }
 ],
 "metadata": {
  "kernelspec": {
   "display_name": "Python 3 (ipykernel)",
   "language": "python",
   "name": "python3"
  },
  "language_info": {
   "codemirror_mode": {
    "name": "ipython",
    "version": 3
   },
   "file_extension": ".py",
   "mimetype": "text/x-python",
   "name": "python",
   "nbconvert_exporter": "python",
   "pygments_lexer": "ipython3",
   "version": "3.9.12"
  }
 },
 "nbformat": 4,
 "nbformat_minor": 4
}
